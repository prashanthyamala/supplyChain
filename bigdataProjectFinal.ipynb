{
 "cells": [
  {
   "cell_type": "code",
   "execution_count": 1,
   "id": "01429e58",
   "metadata": {},
   "outputs": [],
   "source": [
    "from pyspark.sql import SparkSession"
   ]
  },
  {
   "cell_type": "code",
   "execution_count": 2,
   "id": "54c5582b",
   "metadata": {},
   "outputs": [],
   "source": [
    "import pandas as pd\n",
    "import numpy as np\n",
    "from pyspark.ml import Pipeline\n",
    "from pyspark.sql import SparkSession\n",
    "from pyspark.ml.feature import Imputer\n",
    "from pyspark.ml.feature import StringIndexer\n",
    "from pyspark.ml.feature import VectorAssembler\n",
    "from sklearn.metrics import classification_report, confusion_matrix\n",
    "import seaborn as sns"
   ]
  },
  {
   "cell_type": "code",
   "execution_count": 3,
   "id": "b515948f",
   "metadata": {},
   "outputs": [
    {
     "name": "stderr",
     "output_type": "stream",
     "text": [
      "22/04/30 01:27:40 WARN Utils: Your hostname, Aditya-Legion resolves to a loopback address: 127.0.1.1; using 172.20.0.191 instead (on interface eth0)\n",
      "22/04/30 01:27:40 WARN Utils: Set SPARK_LOCAL_IP if you need to bind to another address\n",
      "WARNING: An illegal reflective access operation has occurred\n",
      "WARNING: Illegal reflective access by org.apache.spark.unsafe.Platform (file:/home/aditya/anaconda3/lib/python3.9/site-packages/pyspark/jars/spark-unsafe_2.12-3.2.1.jar) to constructor java.nio.DirectByteBuffer(long,int)\n",
      "WARNING: Please consider reporting this to the maintainers of org.apache.spark.unsafe.Platform\n",
      "WARNING: Use --illegal-access=warn to enable warnings of further illegal reflective access operations\n",
      "WARNING: All illegal access operations will be denied in a future release\n",
      "Using Spark's default log4j profile: org/apache/spark/log4j-defaults.properties\n",
      "Setting default log level to \"WARN\".\n",
      "To adjust logging level use sc.setLogLevel(newLevel). For SparkR, use setLogLevel(newLevel).\n",
      "22/04/30 01:27:41 WARN NativeCodeLoader: Unable to load native-hadoop library for your platform... using builtin-java classes where applicable\n",
      "[Stage 1:===============================================>         (10 + 2) / 12]\r"
     ]
    },
    {
     "name": "stdout",
     "output_type": "stream",
     "text": [
      "root\n",
      " |-- Type: string (nullable = true)\n",
      " |-- Days for shipping (real): integer (nullable = true)\n",
      " |-- Days for shipment (scheduled): integer (nullable = true)\n",
      " |-- Benefit per order: double (nullable = true)\n",
      " |-- Sales per customer: double (nullable = true)\n",
      " |-- Delivery Status: string (nullable = true)\n",
      " |-- Late_delivery_risk: integer (nullable = true)\n",
      " |-- Category Id: integer (nullable = true)\n",
      " |-- Category Name: string (nullable = true)\n",
      " |-- Customer City: string (nullable = true)\n",
      " |-- Customer Country: string (nullable = true)\n",
      " |-- Customer Email: string (nullable = true)\n",
      " |-- Customer Fname: string (nullable = true)\n",
      " |-- Customer Id: integer (nullable = true)\n",
      " |-- Customer Lname: string (nullable = true)\n",
      " |-- Customer Password: string (nullable = true)\n",
      " |-- Customer Segment: string (nullable = true)\n",
      " |-- Customer State: string (nullable = true)\n",
      " |-- Customer Street: string (nullable = true)\n",
      " |-- Customer Zipcode: integer (nullable = true)\n",
      " |-- Department Id: integer (nullable = true)\n",
      " |-- Department Name: string (nullable = true)\n",
      " |-- Latitude: double (nullable = true)\n",
      " |-- Longitude: double (nullable = true)\n",
      " |-- Market: string (nullable = true)\n",
      " |-- Order City: string (nullable = true)\n",
      " |-- Order Country: string (nullable = true)\n",
      " |-- Order Customer Id: integer (nullable = true)\n",
      " |-- order date (DateOrders): string (nullable = true)\n",
      " |-- Order Id: integer (nullable = true)\n",
      " |-- Order Item Cardprod Id: integer (nullable = true)\n",
      " |-- Order Item Discount: double (nullable = true)\n",
      " |-- Order Item Discount Rate: double (nullable = true)\n",
      " |-- Order Item Id: integer (nullable = true)\n",
      " |-- Order Item Product Price: double (nullable = true)\n",
      " |-- Order Item Profit Ratio: double (nullable = true)\n",
      " |-- Order Item Quantity: integer (nullable = true)\n",
      " |-- Sales: double (nullable = true)\n",
      " |-- Order Item Total: double (nullable = true)\n",
      " |-- Order Profit Per Order: double (nullable = true)\n",
      " |-- Order Region: string (nullable = true)\n",
      " |-- Order State: string (nullable = true)\n",
      " |-- Order Status: string (nullable = true)\n",
      " |-- Order Zipcode: integer (nullable = true)\n",
      " |-- Product Card Id: integer (nullable = true)\n",
      " |-- Product Category Id: integer (nullable = true)\n",
      " |-- Product Description: string (nullable = true)\n",
      " |-- Product Image: string (nullable = true)\n",
      " |-- Product Name: string (nullable = true)\n",
      " |-- Product Price: double (nullable = true)\n",
      " |-- Product Status: integer (nullable = true)\n",
      " |-- shipping date (DateOrders): string (nullable = true)\n",
      " |-- Shipping Mode: string (nullable = true)\n",
      "\n"
     ]
    },
    {
     "name": "stderr",
     "output_type": "stream",
     "text": [
      "                                                                                \r"
     ]
    }
   ],
   "source": [
    "spark = SparkSession.builder.appName('DataCoSupplyChain').getOrCreate()\n",
    "my_data = spark.read.csv('DataCoSupplyChainDataset.csv', header = True, inferSchema = True)\n",
    "my_data.printSchema()"
   ]
  },
  {
   "cell_type": "code",
   "execution_count": 4,
   "id": "f50767d3",
   "metadata": {},
   "outputs": [
    {
     "name": "stdout",
     "output_type": "stream",
     "text": [
      "(180519, 53)\n"
     ]
    }
   ],
   "source": [
    "print((my_data.count(), len(my_data.columns)))"
   ]
  },
  {
   "cell_type": "code",
   "execution_count": 5,
   "id": "cd8cd477-5dc5-423f-9554-588ad2bc61da",
   "metadata": {},
   "outputs": [
    {
     "name": "stderr",
     "output_type": "stream",
     "text": [
      "22/04/30 01:27:47 WARN package: Truncated the string representation of a plan since it was too large. This behavior can be adjusted by setting 'spark.sql.debug.maxToStringFields'.\n",
      "                                                                                \r"
     ]
    }
   ],
   "source": [
    "df = my_data.toPandas()"
   ]
  },
  {
   "cell_type": "code",
   "execution_count": 6,
   "id": "9074a141",
   "metadata": {},
   "outputs": [
    {
     "data": {
      "text/html": [
       "<div>\n",
       "<style scoped>\n",
       "    .dataframe tbody tr th:only-of-type {\n",
       "        vertical-align: middle;\n",
       "    }\n",
       "\n",
       "    .dataframe tbody tr th {\n",
       "        vertical-align: top;\n",
       "    }\n",
       "\n",
       "    .dataframe thead th {\n",
       "        text-align: right;\n",
       "    }\n",
       "</style>\n",
       "<table border=\"1\" class=\"dataframe\">\n",
       "  <thead>\n",
       "    <tr style=\"text-align: right;\">\n",
       "      <th></th>\n",
       "      <th>Type</th>\n",
       "      <th>Days for shipping (real)</th>\n",
       "      <th>Days for shipment (scheduled)</th>\n",
       "      <th>Benefit per order</th>\n",
       "      <th>Sales per customer</th>\n",
       "      <th>Delivery Status</th>\n",
       "      <th>Late_delivery_risk</th>\n",
       "      <th>Category Id</th>\n",
       "      <th>Category Name</th>\n",
       "      <th>Customer City</th>\n",
       "      <th>...</th>\n",
       "      <th>Order Zipcode</th>\n",
       "      <th>Product Card Id</th>\n",
       "      <th>Product Category Id</th>\n",
       "      <th>Product Description</th>\n",
       "      <th>Product Image</th>\n",
       "      <th>Product Name</th>\n",
       "      <th>Product Price</th>\n",
       "      <th>Product Status</th>\n",
       "      <th>shipping date (DateOrders)</th>\n",
       "      <th>Shipping Mode</th>\n",
       "    </tr>\n",
       "  </thead>\n",
       "  <tbody>\n",
       "    <tr>\n",
       "      <th>0</th>\n",
       "      <td>DEBIT</td>\n",
       "      <td>3</td>\n",
       "      <td>4</td>\n",
       "      <td>91.250000</td>\n",
       "      <td>314.640015</td>\n",
       "      <td>Advance shipping</td>\n",
       "      <td>0</td>\n",
       "      <td>73</td>\n",
       "      <td>Sporting Goods</td>\n",
       "      <td>Caguas</td>\n",
       "      <td>...</td>\n",
       "      <td>NaN</td>\n",
       "      <td>1360</td>\n",
       "      <td>73</td>\n",
       "      <td>None</td>\n",
       "      <td>http://images.acmesports.sports/Smart+watch</td>\n",
       "      <td>Smart watch</td>\n",
       "      <td>327.750000</td>\n",
       "      <td>0</td>\n",
       "      <td>2/3/2018 22:56</td>\n",
       "      <td>Standard Class</td>\n",
       "    </tr>\n",
       "    <tr>\n",
       "      <th>1</th>\n",
       "      <td>TRANSFER</td>\n",
       "      <td>5</td>\n",
       "      <td>4</td>\n",
       "      <td>-249.089996</td>\n",
       "      <td>311.359985</td>\n",
       "      <td>Late delivery</td>\n",
       "      <td>1</td>\n",
       "      <td>73</td>\n",
       "      <td>Sporting Goods</td>\n",
       "      <td>Caguas</td>\n",
       "      <td>...</td>\n",
       "      <td>NaN</td>\n",
       "      <td>1360</td>\n",
       "      <td>73</td>\n",
       "      <td>None</td>\n",
       "      <td>http://images.acmesports.sports/Smart+watch</td>\n",
       "      <td>Smart watch</td>\n",
       "      <td>327.750000</td>\n",
       "      <td>0</td>\n",
       "      <td>1/18/2018 12:27</td>\n",
       "      <td>Standard Class</td>\n",
       "    </tr>\n",
       "    <tr>\n",
       "      <th>2</th>\n",
       "      <td>CASH</td>\n",
       "      <td>4</td>\n",
       "      <td>4</td>\n",
       "      <td>-247.779999</td>\n",
       "      <td>309.720001</td>\n",
       "      <td>Shipping on time</td>\n",
       "      <td>0</td>\n",
       "      <td>73</td>\n",
       "      <td>Sporting Goods</td>\n",
       "      <td>San Jose</td>\n",
       "      <td>...</td>\n",
       "      <td>NaN</td>\n",
       "      <td>1360</td>\n",
       "      <td>73</td>\n",
       "      <td>None</td>\n",
       "      <td>http://images.acmesports.sports/Smart+watch</td>\n",
       "      <td>Smart watch</td>\n",
       "      <td>327.750000</td>\n",
       "      <td>0</td>\n",
       "      <td>1/17/2018 12:06</td>\n",
       "      <td>Standard Class</td>\n",
       "    </tr>\n",
       "    <tr>\n",
       "      <th>3</th>\n",
       "      <td>DEBIT</td>\n",
       "      <td>3</td>\n",
       "      <td>4</td>\n",
       "      <td>22.860001</td>\n",
       "      <td>304.809998</td>\n",
       "      <td>Advance shipping</td>\n",
       "      <td>0</td>\n",
       "      <td>73</td>\n",
       "      <td>Sporting Goods</td>\n",
       "      <td>Los Angeles</td>\n",
       "      <td>...</td>\n",
       "      <td>NaN</td>\n",
       "      <td>1360</td>\n",
       "      <td>73</td>\n",
       "      <td>None</td>\n",
       "      <td>http://images.acmesports.sports/Smart+watch</td>\n",
       "      <td>Smart watch</td>\n",
       "      <td>327.750000</td>\n",
       "      <td>0</td>\n",
       "      <td>1/16/2018 11:45</td>\n",
       "      <td>Standard Class</td>\n",
       "    </tr>\n",
       "    <tr>\n",
       "      <th>4</th>\n",
       "      <td>PAYMENT</td>\n",
       "      <td>2</td>\n",
       "      <td>4</td>\n",
       "      <td>134.210007</td>\n",
       "      <td>298.250000</td>\n",
       "      <td>Advance shipping</td>\n",
       "      <td>0</td>\n",
       "      <td>73</td>\n",
       "      <td>Sporting Goods</td>\n",
       "      <td>Caguas</td>\n",
       "      <td>...</td>\n",
       "      <td>NaN</td>\n",
       "      <td>1360</td>\n",
       "      <td>73</td>\n",
       "      <td>None</td>\n",
       "      <td>http://images.acmesports.sports/Smart+watch</td>\n",
       "      <td>Smart watch</td>\n",
       "      <td>327.750000</td>\n",
       "      <td>0</td>\n",
       "      <td>1/15/2018 11:24</td>\n",
       "      <td>Standard Class</td>\n",
       "    </tr>\n",
       "    <tr>\n",
       "      <th>...</th>\n",
       "      <td>...</td>\n",
       "      <td>...</td>\n",
       "      <td>...</td>\n",
       "      <td>...</td>\n",
       "      <td>...</td>\n",
       "      <td>...</td>\n",
       "      <td>...</td>\n",
       "      <td>...</td>\n",
       "      <td>...</td>\n",
       "      <td>...</td>\n",
       "      <td>...</td>\n",
       "      <td>...</td>\n",
       "      <td>...</td>\n",
       "      <td>...</td>\n",
       "      <td>...</td>\n",
       "      <td>...</td>\n",
       "      <td>...</td>\n",
       "      <td>...</td>\n",
       "      <td>...</td>\n",
       "      <td>...</td>\n",
       "      <td>...</td>\n",
       "    </tr>\n",
       "    <tr>\n",
       "      <th>180514</th>\n",
       "      <td>CASH</td>\n",
       "      <td>4</td>\n",
       "      <td>4</td>\n",
       "      <td>40.000000</td>\n",
       "      <td>399.980011</td>\n",
       "      <td>Shipping on time</td>\n",
       "      <td>0</td>\n",
       "      <td>45</td>\n",
       "      <td>Fishing</td>\n",
       "      <td>Brooklyn</td>\n",
       "      <td>...</td>\n",
       "      <td>NaN</td>\n",
       "      <td>1004</td>\n",
       "      <td>45</td>\n",
       "      <td>None</td>\n",
       "      <td>http://images.acmesports.sports/Field+%26+Stre...</td>\n",
       "      <td>Field &amp; Stream Sportsman 16 Gun Fire Safe</td>\n",
       "      <td>399.980011</td>\n",
       "      <td>0</td>\n",
       "      <td>1/20/2016 3:40</td>\n",
       "      <td>Standard Class</td>\n",
       "    </tr>\n",
       "    <tr>\n",
       "      <th>180515</th>\n",
       "      <td>DEBIT</td>\n",
       "      <td>3</td>\n",
       "      <td>2</td>\n",
       "      <td>-613.770019</td>\n",
       "      <td>395.980011</td>\n",
       "      <td>Late delivery</td>\n",
       "      <td>1</td>\n",
       "      <td>45</td>\n",
       "      <td>Fishing</td>\n",
       "      <td>Bakersfield</td>\n",
       "      <td>...</td>\n",
       "      <td>NaN</td>\n",
       "      <td>1004</td>\n",
       "      <td>45</td>\n",
       "      <td>None</td>\n",
       "      <td>http://images.acmesports.sports/Field+%26+Stre...</td>\n",
       "      <td>Field &amp; Stream Sportsman 16 Gun Fire Safe</td>\n",
       "      <td>399.980011</td>\n",
       "      <td>0</td>\n",
       "      <td>1/19/2016 1:34</td>\n",
       "      <td>Second Class</td>\n",
       "    </tr>\n",
       "    <tr>\n",
       "      <th>180516</th>\n",
       "      <td>TRANSFER</td>\n",
       "      <td>5</td>\n",
       "      <td>4</td>\n",
       "      <td>141.110001</td>\n",
       "      <td>391.980011</td>\n",
       "      <td>Late delivery</td>\n",
       "      <td>1</td>\n",
       "      <td>45</td>\n",
       "      <td>Fishing</td>\n",
       "      <td>Bristol</td>\n",
       "      <td>...</td>\n",
       "      <td>NaN</td>\n",
       "      <td>1004</td>\n",
       "      <td>45</td>\n",
       "      <td>None</td>\n",
       "      <td>http://images.acmesports.sports/Field+%26+Stre...</td>\n",
       "      <td>Field &amp; Stream Sportsman 16 Gun Fire Safe</td>\n",
       "      <td>399.980011</td>\n",
       "      <td>0</td>\n",
       "      <td>1/20/2016 21:00</td>\n",
       "      <td>Standard Class</td>\n",
       "    </tr>\n",
       "    <tr>\n",
       "      <th>180517</th>\n",
       "      <td>PAYMENT</td>\n",
       "      <td>3</td>\n",
       "      <td>4</td>\n",
       "      <td>186.229996</td>\n",
       "      <td>387.980011</td>\n",
       "      <td>Advance shipping</td>\n",
       "      <td>0</td>\n",
       "      <td>45</td>\n",
       "      <td>Fishing</td>\n",
       "      <td>Caguas</td>\n",
       "      <td>...</td>\n",
       "      <td>NaN</td>\n",
       "      <td>1004</td>\n",
       "      <td>45</td>\n",
       "      <td>None</td>\n",
       "      <td>http://images.acmesports.sports/Field+%26+Stre...</td>\n",
       "      <td>Field &amp; Stream Sportsman 16 Gun Fire Safe</td>\n",
       "      <td>399.980011</td>\n",
       "      <td>0</td>\n",
       "      <td>1/18/2016 20:18</td>\n",
       "      <td>Standard Class</td>\n",
       "    </tr>\n",
       "    <tr>\n",
       "      <th>180518</th>\n",
       "      <td>PAYMENT</td>\n",
       "      <td>4</td>\n",
       "      <td>4</td>\n",
       "      <td>168.949997</td>\n",
       "      <td>383.980011</td>\n",
       "      <td>Shipping on time</td>\n",
       "      <td>0</td>\n",
       "      <td>45</td>\n",
       "      <td>Fishing</td>\n",
       "      <td>Caguas</td>\n",
       "      <td>...</td>\n",
       "      <td>NaN</td>\n",
       "      <td>1004</td>\n",
       "      <td>45</td>\n",
       "      <td>None</td>\n",
       "      <td>http://images.acmesports.sports/Field+%26+Stre...</td>\n",
       "      <td>Field &amp; Stream Sportsman 16 Gun Fire Safe</td>\n",
       "      <td>399.980011</td>\n",
       "      <td>0</td>\n",
       "      <td>1/19/2016 18:54</td>\n",
       "      <td>Standard Class</td>\n",
       "    </tr>\n",
       "  </tbody>\n",
       "</table>\n",
       "<p>180519 rows × 53 columns</p>\n",
       "</div>"
      ],
      "text/plain": [
       "            Type  Days for shipping (real)  Days for shipment (scheduled)  \\\n",
       "0          DEBIT                         3                              4   \n",
       "1       TRANSFER                         5                              4   \n",
       "2           CASH                         4                              4   \n",
       "3          DEBIT                         3                              4   \n",
       "4        PAYMENT                         2                              4   \n",
       "...          ...                       ...                            ...   \n",
       "180514      CASH                         4                              4   \n",
       "180515     DEBIT                         3                              2   \n",
       "180516  TRANSFER                         5                              4   \n",
       "180517   PAYMENT                         3                              4   \n",
       "180518   PAYMENT                         4                              4   \n",
       "\n",
       "        Benefit per order  Sales per customer   Delivery Status  \\\n",
       "0               91.250000          314.640015  Advance shipping   \n",
       "1             -249.089996          311.359985     Late delivery   \n",
       "2             -247.779999          309.720001  Shipping on time   \n",
       "3               22.860001          304.809998  Advance shipping   \n",
       "4              134.210007          298.250000  Advance shipping   \n",
       "...                   ...                 ...               ...   \n",
       "180514          40.000000          399.980011  Shipping on time   \n",
       "180515        -613.770019          395.980011     Late delivery   \n",
       "180516         141.110001          391.980011     Late delivery   \n",
       "180517         186.229996          387.980011  Advance shipping   \n",
       "180518         168.949997          383.980011  Shipping on time   \n",
       "\n",
       "        Late_delivery_risk  Category Id   Category Name Customer City  ...  \\\n",
       "0                        0           73  Sporting Goods        Caguas  ...   \n",
       "1                        1           73  Sporting Goods        Caguas  ...   \n",
       "2                        0           73  Sporting Goods      San Jose  ...   \n",
       "3                        0           73  Sporting Goods   Los Angeles  ...   \n",
       "4                        0           73  Sporting Goods        Caguas  ...   \n",
       "...                    ...          ...             ...           ...  ...   \n",
       "180514                   0           45         Fishing      Brooklyn  ...   \n",
       "180515                   1           45         Fishing   Bakersfield  ...   \n",
       "180516                   1           45         Fishing       Bristol  ...   \n",
       "180517                   0           45         Fishing        Caguas  ...   \n",
       "180518                   0           45         Fishing        Caguas  ...   \n",
       "\n",
       "       Order Zipcode Product Card Id Product Category Id  Product Description  \\\n",
       "0                NaN            1360                  73                 None   \n",
       "1                NaN            1360                  73                 None   \n",
       "2                NaN            1360                  73                 None   \n",
       "3                NaN            1360                  73                 None   \n",
       "4                NaN            1360                  73                 None   \n",
       "...              ...             ...                 ...                  ...   \n",
       "180514           NaN            1004                  45                 None   \n",
       "180515           NaN            1004                  45                 None   \n",
       "180516           NaN            1004                  45                 None   \n",
       "180517           NaN            1004                  45                 None   \n",
       "180518           NaN            1004                  45                 None   \n",
       "\n",
       "                                            Product Image  \\\n",
       "0            http://images.acmesports.sports/Smart+watch    \n",
       "1            http://images.acmesports.sports/Smart+watch    \n",
       "2            http://images.acmesports.sports/Smart+watch    \n",
       "3            http://images.acmesports.sports/Smart+watch    \n",
       "4            http://images.acmesports.sports/Smart+watch    \n",
       "...                                                   ...   \n",
       "180514  http://images.acmesports.sports/Field+%26+Stre...   \n",
       "180515  http://images.acmesports.sports/Field+%26+Stre...   \n",
       "180516  http://images.acmesports.sports/Field+%26+Stre...   \n",
       "180517  http://images.acmesports.sports/Field+%26+Stre...   \n",
       "180518  http://images.acmesports.sports/Field+%26+Stre...   \n",
       "\n",
       "                                     Product Name Product Price  \\\n",
       "0                                    Smart watch     327.750000   \n",
       "1                                    Smart watch     327.750000   \n",
       "2                                    Smart watch     327.750000   \n",
       "3                                    Smart watch     327.750000   \n",
       "4                                    Smart watch     327.750000   \n",
       "...                                           ...           ...   \n",
       "180514  Field & Stream Sportsman 16 Gun Fire Safe    399.980011   \n",
       "180515  Field & Stream Sportsman 16 Gun Fire Safe    399.980011   \n",
       "180516  Field & Stream Sportsman 16 Gun Fire Safe    399.980011   \n",
       "180517  Field & Stream Sportsman 16 Gun Fire Safe    399.980011   \n",
       "180518  Field & Stream Sportsman 16 Gun Fire Safe    399.980011   \n",
       "\n",
       "       Product Status shipping date (DateOrders)   Shipping Mode  \n",
       "0                   0             2/3/2018 22:56  Standard Class  \n",
       "1                   0            1/18/2018 12:27  Standard Class  \n",
       "2                   0            1/17/2018 12:06  Standard Class  \n",
       "3                   0            1/16/2018 11:45  Standard Class  \n",
       "4                   0            1/15/2018 11:24  Standard Class  \n",
       "...               ...                        ...             ...  \n",
       "180514              0             1/20/2016 3:40  Standard Class  \n",
       "180515              0             1/19/2016 1:34    Second Class  \n",
       "180516              0            1/20/2016 21:00  Standard Class  \n",
       "180517              0            1/18/2016 20:18  Standard Class  \n",
       "180518              0            1/19/2016 18:54  Standard Class  \n",
       "\n",
       "[180519 rows x 53 columns]"
      ]
     },
     "execution_count": 6,
     "metadata": {},
     "output_type": "execute_result"
    }
   ],
   "source": [
    "df"
   ]
  },
  {
   "cell_type": "code",
   "execution_count": 7,
   "id": "edc23dc6",
   "metadata": {},
   "outputs": [],
   "source": [
    "# shipping_indexer = StringIndexer(inputCol='Shipping Mode', outputCol='Shipping Mode Indx')\n",
    "# shipping_indexer_model = shipping_indexer.fit(my_data)\n",
    "# my_data = shipping_indexer_model.transform(my_data)"
   ]
  },
  {
   "cell_type": "code",
   "execution_count": 8,
   "id": "e830c45a",
   "metadata": {},
   "outputs": [
    {
     "data": {
      "text/html": [
       "<div>\n",
       "<style scoped>\n",
       "    .dataframe tbody tr th:only-of-type {\n",
       "        vertical-align: middle;\n",
       "    }\n",
       "\n",
       "    .dataframe tbody tr th {\n",
       "        vertical-align: top;\n",
       "    }\n",
       "\n",
       "    .dataframe thead th {\n",
       "        text-align: right;\n",
       "    }\n",
       "</style>\n",
       "<table border=\"1\" class=\"dataframe\">\n",
       "  <thead>\n",
       "    <tr style=\"text-align: right;\">\n",
       "      <th></th>\n",
       "      <th>Days for shipping (real)</th>\n",
       "      <th>Days for shipment (scheduled)</th>\n",
       "      <th>Delivery Status</th>\n",
       "      <th>Late_delivery_risk</th>\n",
       "      <th>Product Status</th>\n",
       "      <th>Shipping Mode</th>\n",
       "    </tr>\n",
       "  </thead>\n",
       "  <tbody>\n",
       "    <tr>\n",
       "      <th>0</th>\n",
       "      <td>3</td>\n",
       "      <td>4</td>\n",
       "      <td>Advance shipping</td>\n",
       "      <td>0</td>\n",
       "      <td>0</td>\n",
       "      <td>Standard Class</td>\n",
       "    </tr>\n",
       "    <tr>\n",
       "      <th>1</th>\n",
       "      <td>5</td>\n",
       "      <td>4</td>\n",
       "      <td>Late delivery</td>\n",
       "      <td>1</td>\n",
       "      <td>0</td>\n",
       "      <td>Standard Class</td>\n",
       "    </tr>\n",
       "    <tr>\n",
       "      <th>2</th>\n",
       "      <td>4</td>\n",
       "      <td>4</td>\n",
       "      <td>Shipping on time</td>\n",
       "      <td>0</td>\n",
       "      <td>0</td>\n",
       "      <td>Standard Class</td>\n",
       "    </tr>\n",
       "    <tr>\n",
       "      <th>3</th>\n",
       "      <td>3</td>\n",
       "      <td>4</td>\n",
       "      <td>Advance shipping</td>\n",
       "      <td>0</td>\n",
       "      <td>0</td>\n",
       "      <td>Standard Class</td>\n",
       "    </tr>\n",
       "    <tr>\n",
       "      <th>4</th>\n",
       "      <td>2</td>\n",
       "      <td>4</td>\n",
       "      <td>Advance shipping</td>\n",
       "      <td>0</td>\n",
       "      <td>0</td>\n",
       "      <td>Standard Class</td>\n",
       "    </tr>\n",
       "  </tbody>\n",
       "</table>\n",
       "</div>"
      ],
      "text/plain": [
       "   Days for shipping (real)  Days for shipment (scheduled)   Delivery Status  \\\n",
       "0                         3                              4  Advance shipping   \n",
       "1                         5                              4     Late delivery   \n",
       "2                         4                              4  Shipping on time   \n",
       "3                         3                              4  Advance shipping   \n",
       "4                         2                              4  Advance shipping   \n",
       "\n",
       "   Late_delivery_risk  Product Status   Shipping Mode  \n",
       "0                   0               0  Standard Class  \n",
       "1                   1               0  Standard Class  \n",
       "2                   0               0  Standard Class  \n",
       "3                   0               0  Standard Class  \n",
       "4                   0               0  Standard Class  "
      ]
     },
     "execution_count": 8,
     "metadata": {},
     "output_type": "execute_result"
    }
   ],
   "source": [
    "df_1 = df[['Days for shipping (real)', 'Days for shipment (scheduled)', 'Delivery Status', 'Late_delivery_risk', 'Product Status', 'Shipping Mode']]\n",
    "df_1.head()"
   ]
  },
  {
   "cell_type": "code",
   "execution_count": 9,
   "id": "f79b4d9b-8bd4-4050-8bca-e9a12a1b9879",
   "metadata": {},
   "outputs": [],
   "source": [
    "ship_df = pd.get_dummies(df[\"Shipping Mode\"])"
   ]
  },
  {
   "cell_type": "code",
   "execution_count": 10,
   "id": "be4c65a5-ffb9-45c9-b778-0d2defcc5f8c",
   "metadata": {},
   "outputs": [],
   "source": [
    "df_final = pd.concat([df, ship_df], axis=1)"
   ]
  },
  {
   "cell_type": "code",
   "execution_count": 11,
   "id": "0f0a8543-996e-4019-bd57-ff990b0c8bdc",
   "metadata": {},
   "outputs": [
    {
     "data": {
      "text/html": [
       "<div>\n",
       "<style scoped>\n",
       "    .dataframe tbody tr th:only-of-type {\n",
       "        vertical-align: middle;\n",
       "    }\n",
       "\n",
       "    .dataframe tbody tr th {\n",
       "        vertical-align: top;\n",
       "    }\n",
       "\n",
       "    .dataframe thead th {\n",
       "        text-align: right;\n",
       "    }\n",
       "</style>\n",
       "<table border=\"1\" class=\"dataframe\">\n",
       "  <thead>\n",
       "    <tr style=\"text-align: right;\">\n",
       "      <th></th>\n",
       "      <th>Type</th>\n",
       "      <th>Days for shipping (real)</th>\n",
       "      <th>Days for shipment (scheduled)</th>\n",
       "      <th>Benefit per order</th>\n",
       "      <th>Sales per customer</th>\n",
       "      <th>Delivery Status</th>\n",
       "      <th>Late_delivery_risk</th>\n",
       "      <th>Category Id</th>\n",
       "      <th>Category Name</th>\n",
       "      <th>Customer City</th>\n",
       "      <th>...</th>\n",
       "      <th>Product Image</th>\n",
       "      <th>Product Name</th>\n",
       "      <th>Product Price</th>\n",
       "      <th>Product Status</th>\n",
       "      <th>shipping date (DateOrders)</th>\n",
       "      <th>Shipping Mode</th>\n",
       "      <th>First Class</th>\n",
       "      <th>Same Day</th>\n",
       "      <th>Second Class</th>\n",
       "      <th>Standard Class</th>\n",
       "    </tr>\n",
       "  </thead>\n",
       "  <tbody>\n",
       "  </tbody>\n",
       "</table>\n",
       "<p>0 rows × 57 columns</p>\n",
       "</div>"
      ],
      "text/plain": [
       "Empty DataFrame\n",
       "Columns: [Type, Days for shipping (real), Days for shipment (scheduled), Benefit per order, Sales per customer, Delivery Status, Late_delivery_risk, Category Id, Category Name, Customer City, Customer Country, Customer Email, Customer Fname, Customer Id, Customer Lname, Customer Password, Customer Segment, Customer State, Customer Street, Customer Zipcode, Department Id, Department Name, Latitude, Longitude, Market, Order City, Order Country, Order Customer Id, order date (DateOrders), Order Id, Order Item Cardprod Id, Order Item Discount, Order Item Discount Rate, Order Item Id, Order Item Product Price, Order Item Profit Ratio, Order Item Quantity, Sales, Order Item Total, Order Profit Per Order, Order Region, Order State, Order Status, Order Zipcode, Product Card Id, Product Category Id, Product Description, Product Image, Product Name, Product Price, Product Status, shipping date (DateOrders), Shipping Mode, First Class, Same Day, Second Class, Standard Class]\n",
       "Index: []\n",
       "\n",
       "[0 rows x 57 columns]"
      ]
     },
     "execution_count": 11,
     "metadata": {},
     "output_type": "execute_result"
    }
   ],
   "source": [
    "df_final.head(0)"
   ]
  },
  {
   "cell_type": "code",
   "execution_count": 12,
   "id": "eae1faff",
   "metadata": {},
   "outputs": [],
   "source": [
    "#assemblr = VectorAssembler(inputCols=['Days for shipping (real)','Days for shipment (scheduled)', 'Product Status', 'Shipping Mode Indx'], outputCol='featureData')\n",
    "#my_data = assemblr.transform(my_data)\n",
    "y = df_final['Late_delivery_risk']\n",
    "X = df_final[['Days for shipping (real)','Days for shipment (scheduled)','Product Status','First Class', 'Same Day','Second Class', 'Standard Class']]"
   ]
  },
  {
   "cell_type": "code",
   "execution_count": 13,
   "id": "ce48a832-11ad-48be-a8a5-7b0799247c5f",
   "metadata": {},
   "outputs": [],
   "source": [
    "from sklearn.model_selection import train_test_split"
   ]
  },
  {
   "cell_type": "code",
   "execution_count": 14,
   "id": "15fde614",
   "metadata": {},
   "outputs": [],
   "source": [
    "X_train, X_test, y_train, y_test = train_test_split(X, y, test_size=0.2, random_state=0)"
   ]
  },
  {
   "cell_type": "code",
   "execution_count": 15,
   "id": "5e359bd4-6969-493d-a739-6ae4cffa293a",
   "metadata": {},
   "outputs": [
    {
     "data": {
      "text/plain": [
       "70228     1\n",
       "51588     1\n",
       "41336     0\n",
       "43009     1\n",
       "131729    1\n",
       "         ..\n",
       "152315    1\n",
       "176963    1\n",
       "117952    0\n",
       "173685    1\n",
       "43567     1\n",
       "Name: Late_delivery_risk, Length: 144415, dtype: int32"
      ]
     },
     "execution_count": 15,
     "metadata": {},
     "output_type": "execute_result"
    }
   ],
   "source": [
    "y_train"
   ]
  },
  {
   "cell_type": "code",
   "execution_count": 16,
   "id": "a332a903-0acc-4be1-b52b-8c634c424255",
   "metadata": {},
   "outputs": [],
   "source": [
    "from sklearn.metrics import accuracy_score\n",
    "from sklearn.ensemble import RandomForestClassifier"
   ]
  },
  {
   "cell_type": "code",
   "execution_count": 17,
   "id": "4c78f4b5",
   "metadata": {},
   "outputs": [
    {
     "data": {
      "text/plain": [
       "0.9742964768446709"
      ]
     },
     "execution_count": 17,
     "metadata": {},
     "output_type": "execute_result"
    }
   ],
   "source": [
    "model_rf = RandomForestClassifier()\n",
    "model_fit = model_rf.fit(X_train, y_train)\n",
    "model_predictions = model_fit.predict(X_test)\n",
    "accuracy_score(y_test, model_predictions)"
   ]
  },
  {
   "cell_type": "code",
   "execution_count": 18,
   "id": "d1668ac6",
   "metadata": {},
   "outputs": [
    {
     "name": "stdout",
     "output_type": "stream",
     "text": [
      "[[15456   928]\n",
      " [    0 19720]]\n"
     ]
    }
   ],
   "source": [
    "print(confusion_matrix(y_test,model_predictions))"
   ]
  },
  {
   "cell_type": "code",
   "execution_count": 19,
   "id": "f81f1201",
   "metadata": {},
   "outputs": [
    {
     "data": {
      "text/plain": [
       "<AxesSubplot:>"
      ]
     },
     "execution_count": 19,
     "metadata": {},
     "output_type": "execute_result"
    },
    {
     "data": {
      "image/png": "[encoded data removed]",
      "text/plain": [
       "<Figure size 432x288 with 2 Axes>"
      ]
     },
     "metadata": {
      "needs_background": "light"
     },
     "output_type": "display_data"
    }
   ],
   "source": [
    "clf_report = classification_report(y_test,\n",
    "                                model_predictions,\n",
    "                                   target_names=['Shipping cancelled','shipped'],\n",
    "            \n",
    "                                   output_dict=True)\n",
    "sns.heatmap(pd.DataFrame(clf_report).iloc[:-1, :].T, annot=True)"
   ]
  },
  {
   "cell_type": "code",
   "execution_count": 20,
   "id": "e8910ed8",
   "metadata": {},
   "outputs": [
    {
     "name": "stderr",
     "output_type": "stream",
     "text": [
      "                                                                                \r"
     ]
    }
   ],
   "source": [
    "data_2 = spark.read.csv('DataCoSupplyChainDataset.csv', header = True, inferSchema = True).toPandas()"
   ]
  },
  {
   "cell_type": "code",
   "execution_count": 21,
   "id": "2c1d3d29",
   "metadata": {},
   "outputs": [
    {
     "data": {
      "text/html": [
       "<div>\n",
       "<style scoped>\n",
       "    .dataframe tbody tr th:only-of-type {\n",
       "        vertical-align: middle;\n",
       "    }\n",
       "\n",
       "    .dataframe tbody tr th {\n",
       "        vertical-align: top;\n",
       "    }\n",
       "\n",
       "    .dataframe thead th {\n",
       "        text-align: right;\n",
       "    }\n",
       "</style>\n",
       "<table border=\"1\" class=\"dataframe\">\n",
       "  <thead>\n",
       "    <tr style=\"text-align: right;\">\n",
       "      <th></th>\n",
       "      <th>Type</th>\n",
       "      <th>Days for shipping (real)</th>\n",
       "      <th>Days for shipment (scheduled)</th>\n",
       "      <th>Benefit per order</th>\n",
       "      <th>Sales per customer</th>\n",
       "      <th>Delivery Status</th>\n",
       "      <th>Late_delivery_risk</th>\n",
       "      <th>Category Id</th>\n",
       "      <th>Category Name</th>\n",
       "      <th>Customer City</th>\n",
       "      <th>...</th>\n",
       "      <th>Order Zipcode</th>\n",
       "      <th>Product Card Id</th>\n",
       "      <th>Product Category Id</th>\n",
       "      <th>Product Description</th>\n",
       "      <th>Product Image</th>\n",
       "      <th>Product Name</th>\n",
       "      <th>Product Price</th>\n",
       "      <th>Product Status</th>\n",
       "      <th>shipping date (DateOrders)</th>\n",
       "      <th>Shipping Mode</th>\n",
       "    </tr>\n",
       "  </thead>\n",
       "  <tbody>\n",
       "    <tr>\n",
       "      <th>0</th>\n",
       "      <td>DEBIT</td>\n",
       "      <td>3</td>\n",
       "      <td>4</td>\n",
       "      <td>91.250000</td>\n",
       "      <td>314.640015</td>\n",
       "      <td>Advance shipping</td>\n",
       "      <td>0</td>\n",
       "      <td>73</td>\n",
       "      <td>Sporting Goods</td>\n",
       "      <td>Caguas</td>\n",
       "      <td>...</td>\n",
       "      <td>NaN</td>\n",
       "      <td>1360</td>\n",
       "      <td>73</td>\n",
       "      <td>None</td>\n",
       "      <td>http://images.acmesports.sports/Smart+watch</td>\n",
       "      <td>Smart watch</td>\n",
       "      <td>327.75</td>\n",
       "      <td>0</td>\n",
       "      <td>2/3/2018 22:56</td>\n",
       "      <td>Standard Class</td>\n",
       "    </tr>\n",
       "    <tr>\n",
       "      <th>1</th>\n",
       "      <td>TRANSFER</td>\n",
       "      <td>5</td>\n",
       "      <td>4</td>\n",
       "      <td>-249.089996</td>\n",
       "      <td>311.359985</td>\n",
       "      <td>Late delivery</td>\n",
       "      <td>1</td>\n",
       "      <td>73</td>\n",
       "      <td>Sporting Goods</td>\n",
       "      <td>Caguas</td>\n",
       "      <td>...</td>\n",
       "      <td>NaN</td>\n",
       "      <td>1360</td>\n",
       "      <td>73</td>\n",
       "      <td>None</td>\n",
       "      <td>http://images.acmesports.sports/Smart+watch</td>\n",
       "      <td>Smart watch</td>\n",
       "      <td>327.75</td>\n",
       "      <td>0</td>\n",
       "      <td>1/18/2018 12:27</td>\n",
       "      <td>Standard Class</td>\n",
       "    </tr>\n",
       "    <tr>\n",
       "      <th>2</th>\n",
       "      <td>CASH</td>\n",
       "      <td>4</td>\n",
       "      <td>4</td>\n",
       "      <td>-247.779999</td>\n",
       "      <td>309.720001</td>\n",
       "      <td>Shipping on time</td>\n",
       "      <td>0</td>\n",
       "      <td>73</td>\n",
       "      <td>Sporting Goods</td>\n",
       "      <td>San Jose</td>\n",
       "      <td>...</td>\n",
       "      <td>NaN</td>\n",
       "      <td>1360</td>\n",
       "      <td>73</td>\n",
       "      <td>None</td>\n",
       "      <td>http://images.acmesports.sports/Smart+watch</td>\n",
       "      <td>Smart watch</td>\n",
       "      <td>327.75</td>\n",
       "      <td>0</td>\n",
       "      <td>1/17/2018 12:06</td>\n",
       "      <td>Standard Class</td>\n",
       "    </tr>\n",
       "    <tr>\n",
       "      <th>3</th>\n",
       "      <td>DEBIT</td>\n",
       "      <td>3</td>\n",
       "      <td>4</td>\n",
       "      <td>22.860001</td>\n",
       "      <td>304.809998</td>\n",
       "      <td>Advance shipping</td>\n",
       "      <td>0</td>\n",
       "      <td>73</td>\n",
       "      <td>Sporting Goods</td>\n",
       "      <td>Los Angeles</td>\n",
       "      <td>...</td>\n",
       "      <td>NaN</td>\n",
       "      <td>1360</td>\n",
       "      <td>73</td>\n",
       "      <td>None</td>\n",
       "      <td>http://images.acmesports.sports/Smart+watch</td>\n",
       "      <td>Smart watch</td>\n",
       "      <td>327.75</td>\n",
       "      <td>0</td>\n",
       "      <td>1/16/2018 11:45</td>\n",
       "      <td>Standard Class</td>\n",
       "    </tr>\n",
       "    <tr>\n",
       "      <th>4</th>\n",
       "      <td>PAYMENT</td>\n",
       "      <td>2</td>\n",
       "      <td>4</td>\n",
       "      <td>134.210007</td>\n",
       "      <td>298.250000</td>\n",
       "      <td>Advance shipping</td>\n",
       "      <td>0</td>\n",
       "      <td>73</td>\n",
       "      <td>Sporting Goods</td>\n",
       "      <td>Caguas</td>\n",
       "      <td>...</td>\n",
       "      <td>NaN</td>\n",
       "      <td>1360</td>\n",
       "      <td>73</td>\n",
       "      <td>None</td>\n",
       "      <td>http://images.acmesports.sports/Smart+watch</td>\n",
       "      <td>Smart watch</td>\n",
       "      <td>327.75</td>\n",
       "      <td>0</td>\n",
       "      <td>1/15/2018 11:24</td>\n",
       "      <td>Standard Class</td>\n",
       "    </tr>\n",
       "  </tbody>\n",
       "</table>\n",
       "<p>5 rows × 53 columns</p>\n",
       "</div>"
      ],
      "text/plain": [
       "       Type  Days for shipping (real)  Days for shipment (scheduled)  \\\n",
       "0     DEBIT                         3                              4   \n",
       "1  TRANSFER                         5                              4   \n",
       "2      CASH                         4                              4   \n",
       "3     DEBIT                         3                              4   \n",
       "4   PAYMENT                         2                              4   \n",
       "\n",
       "   Benefit per order  Sales per customer   Delivery Status  \\\n",
       "0          91.250000          314.640015  Advance shipping   \n",
       "1        -249.089996          311.359985     Late delivery   \n",
       "2        -247.779999          309.720001  Shipping on time   \n",
       "3          22.860001          304.809998  Advance shipping   \n",
       "4         134.210007          298.250000  Advance shipping   \n",
       "\n",
       "   Late_delivery_risk  Category Id   Category Name Customer City  ...  \\\n",
       "0                   0           73  Sporting Goods        Caguas  ...   \n",
       "1                   1           73  Sporting Goods        Caguas  ...   \n",
       "2                   0           73  Sporting Goods      San Jose  ...   \n",
       "3                   0           73  Sporting Goods   Los Angeles  ...   \n",
       "4                   0           73  Sporting Goods        Caguas  ...   \n",
       "\n",
       "  Order Zipcode Product Card Id Product Category Id  Product Description  \\\n",
       "0           NaN            1360                  73                 None   \n",
       "1           NaN            1360                  73                 None   \n",
       "2           NaN            1360                  73                 None   \n",
       "3           NaN            1360                  73                 None   \n",
       "4           NaN            1360                  73                 None   \n",
       "\n",
       "                                  Product Image  Product Name Product Price  \\\n",
       "0  http://images.acmesports.sports/Smart+watch   Smart watch         327.75   \n",
       "1  http://images.acmesports.sports/Smart+watch   Smart watch         327.75   \n",
       "2  http://images.acmesports.sports/Smart+watch   Smart watch         327.75   \n",
       "3  http://images.acmesports.sports/Smart+watch   Smart watch         327.75   \n",
       "4  http://images.acmesports.sports/Smart+watch   Smart watch         327.75   \n",
       "\n",
       "  Product Status shipping date (DateOrders)   Shipping Mode  \n",
       "0              0             2/3/2018 22:56  Standard Class  \n",
       "1              0            1/18/2018 12:27  Standard Class  \n",
       "2              0            1/17/2018 12:06  Standard Class  \n",
       "3              0            1/16/2018 11:45  Standard Class  \n",
       "4              0            1/15/2018 11:24  Standard Class  \n",
       "\n",
       "[5 rows x 53 columns]"
      ]
     },
     "execution_count": 21,
     "metadata": {},
     "output_type": "execute_result"
    }
   ],
   "source": [
    "data_2.head()"
   ]
  },
  {
   "cell_type": "code",
   "execution_count": 22,
   "id": "ff011266",
   "metadata": {},
   "outputs": [],
   "source": [
    "bpo = np.array(data_2[\"Benefit per order\"])"
   ]
  },
  {
   "cell_type": "code",
   "execution_count": 23,
   "id": "e3b7e982",
   "metadata": {},
   "outputs": [],
   "source": [
    "bpo_2 = np.linalg.norm(bpo)"
   ]
  },
  {
   "cell_type": "code",
   "execution_count": 24,
   "id": "9f40b39d",
   "metadata": {},
   "outputs": [],
   "source": [
    "from sklearn import preprocessing"
   ]
  },
  {
   "cell_type": "code",
   "execution_count": 25,
   "id": "0660d270",
   "metadata": {},
   "outputs": [
    {
     "data": {
      "text/plain": [
       "array([[  91.25     ],\n",
       "       [-249.0899963],\n",
       "       [-247.7799988],\n",
       "       ...,\n",
       "       [ 141.1100006],\n",
       "       [ 186.2299957],\n",
       "       [ 168.9499969]])"
      ]
     },
     "execution_count": 25,
     "metadata": {},
     "output_type": "execute_result"
    }
   ],
   "source": [
    "bpo.reshape(-1, 1)"
   ]
  },
  {
   "cell_type": "code",
   "execution_count": 26,
   "id": "138f4423",
   "metadata": {},
   "outputs": [],
   "source": [
    "scale = preprocessing.MinMaxScaler()"
   ]
  },
  {
   "cell_type": "code",
   "execution_count": 27,
   "id": "2f9615ee",
   "metadata": {},
   "outputs": [
    {
     "data": {
      "text/plain": [
       "MinMaxScaler()"
      ]
     },
     "execution_count": 27,
     "metadata": {},
     "output_type": "execute_result"
    }
   ],
   "source": [
    "scale.fit(bpo.reshape(-1, 1))"
   ]
  },
  {
   "cell_type": "code",
   "execution_count": 28,
   "id": "1888c844",
   "metadata": {},
   "outputs": [],
   "source": [
    "bpo = scale.transform(bpo.reshape(-1, 1))"
   ]
  },
  {
   "cell_type": "code",
   "execution_count": 29,
   "id": "22e52681",
   "metadata": {},
   "outputs": [],
   "source": [
    "data_2[\"Benefit per order Normalized\"] = bpo"
   ]
  },
  {
   "cell_type": "code",
   "execution_count": 30,
   "id": "f6548d25",
   "metadata": {},
   "outputs": [
    {
     "data": {
      "text/html": [
       "<div>\n",
       "<style scoped>\n",
       "    .dataframe tbody tr th:only-of-type {\n",
       "        vertical-align: middle;\n",
       "    }\n",
       "\n",
       "    .dataframe tbody tr th {\n",
       "        vertical-align: top;\n",
       "    }\n",
       "\n",
       "    .dataframe thead th {\n",
       "        text-align: right;\n",
       "    }\n",
       "</style>\n",
       "<table border=\"1\" class=\"dataframe\">\n",
       "  <thead>\n",
       "    <tr style=\"text-align: right;\">\n",
       "      <th></th>\n",
       "      <th>Type</th>\n",
       "      <th>Days for shipping (real)</th>\n",
       "      <th>Days for shipment (scheduled)</th>\n",
       "      <th>Benefit per order</th>\n",
       "      <th>Sales per customer</th>\n",
       "      <th>Delivery Status</th>\n",
       "      <th>Late_delivery_risk</th>\n",
       "      <th>Category Id</th>\n",
       "      <th>Category Name</th>\n",
       "      <th>Customer City</th>\n",
       "      <th>...</th>\n",
       "      <th>Product Card Id</th>\n",
       "      <th>Product Category Id</th>\n",
       "      <th>Product Description</th>\n",
       "      <th>Product Image</th>\n",
       "      <th>Product Name</th>\n",
       "      <th>Product Price</th>\n",
       "      <th>Product Status</th>\n",
       "      <th>shipping date (DateOrders)</th>\n",
       "      <th>Shipping Mode</th>\n",
       "      <th>Benefit per order Normalized</th>\n",
       "    </tr>\n",
       "  </thead>\n",
       "  <tbody>\n",
       "    <tr>\n",
       "      <th>0</th>\n",
       "      <td>DEBIT</td>\n",
       "      <td>3</td>\n",
       "      <td>4</td>\n",
       "      <td>91.250000</td>\n",
       "      <td>314.640015</td>\n",
       "      <td>Advance shipping</td>\n",
       "      <td>0</td>\n",
       "      <td>73</td>\n",
       "      <td>Sporting Goods</td>\n",
       "      <td>Caguas</td>\n",
       "      <td>...</td>\n",
       "      <td>1360</td>\n",
       "      <td>73</td>\n",
       "      <td>None</td>\n",
       "      <td>http://images.acmesports.sports/Smart+watch</td>\n",
       "      <td>Smart watch</td>\n",
       "      <td>327.75</td>\n",
       "      <td>0</td>\n",
       "      <td>2/3/2018 22:56</td>\n",
       "      <td>Standard Class</td>\n",
       "      <td>0.841800</td>\n",
       "    </tr>\n",
       "    <tr>\n",
       "      <th>1</th>\n",
       "      <td>TRANSFER</td>\n",
       "      <td>5</td>\n",
       "      <td>4</td>\n",
       "      <td>-249.089996</td>\n",
       "      <td>311.359985</td>\n",
       "      <td>Late delivery</td>\n",
       "      <td>1</td>\n",
       "      <td>73</td>\n",
       "      <td>Sporting Goods</td>\n",
       "      <td>Caguas</td>\n",
       "      <td>...</td>\n",
       "      <td>1360</td>\n",
       "      <td>73</td>\n",
       "      <td>None</td>\n",
       "      <td>http://images.acmesports.sports/Smart+watch</td>\n",
       "      <td>Smart watch</td>\n",
       "      <td>327.75</td>\n",
       "      <td>0</td>\n",
       "      <td>1/18/2018 12:27</td>\n",
       "      <td>Standard Class</td>\n",
       "      <td>0.776183</td>\n",
       "    </tr>\n",
       "    <tr>\n",
       "      <th>2</th>\n",
       "      <td>CASH</td>\n",
       "      <td>4</td>\n",
       "      <td>4</td>\n",
       "      <td>-247.779999</td>\n",
       "      <td>309.720001</td>\n",
       "      <td>Shipping on time</td>\n",
       "      <td>0</td>\n",
       "      <td>73</td>\n",
       "      <td>Sporting Goods</td>\n",
       "      <td>San Jose</td>\n",
       "      <td>...</td>\n",
       "      <td>1360</td>\n",
       "      <td>73</td>\n",
       "      <td>None</td>\n",
       "      <td>http://images.acmesports.sports/Smart+watch</td>\n",
       "      <td>Smart watch</td>\n",
       "      <td>327.75</td>\n",
       "      <td>0</td>\n",
       "      <td>1/17/2018 12:06</td>\n",
       "      <td>Standard Class</td>\n",
       "      <td>0.776435</td>\n",
       "    </tr>\n",
       "    <tr>\n",
       "      <th>3</th>\n",
       "      <td>DEBIT</td>\n",
       "      <td>3</td>\n",
       "      <td>4</td>\n",
       "      <td>22.860001</td>\n",
       "      <td>304.809998</td>\n",
       "      <td>Advance shipping</td>\n",
       "      <td>0</td>\n",
       "      <td>73</td>\n",
       "      <td>Sporting Goods</td>\n",
       "      <td>Los Angeles</td>\n",
       "      <td>...</td>\n",
       "      <td>1360</td>\n",
       "      <td>73</td>\n",
       "      <td>None</td>\n",
       "      <td>http://images.acmesports.sports/Smart+watch</td>\n",
       "      <td>Smart watch</td>\n",
       "      <td>327.75</td>\n",
       "      <td>0</td>\n",
       "      <td>1/16/2018 11:45</td>\n",
       "      <td>Standard Class</td>\n",
       "      <td>0.828614</td>\n",
       "    </tr>\n",
       "    <tr>\n",
       "      <th>4</th>\n",
       "      <td>PAYMENT</td>\n",
       "      <td>2</td>\n",
       "      <td>4</td>\n",
       "      <td>134.210007</td>\n",
       "      <td>298.250000</td>\n",
       "      <td>Advance shipping</td>\n",
       "      <td>0</td>\n",
       "      <td>73</td>\n",
       "      <td>Sporting Goods</td>\n",
       "      <td>Caguas</td>\n",
       "      <td>...</td>\n",
       "      <td>1360</td>\n",
       "      <td>73</td>\n",
       "      <td>None</td>\n",
       "      <td>http://images.acmesports.sports/Smart+watch</td>\n",
       "      <td>Smart watch</td>\n",
       "      <td>327.75</td>\n",
       "      <td>0</td>\n",
       "      <td>1/15/2018 11:24</td>\n",
       "      <td>Standard Class</td>\n",
       "      <td>0.850082</td>\n",
       "    </tr>\n",
       "  </tbody>\n",
       "</table>\n",
       "<p>5 rows × 54 columns</p>\n",
       "</div>"
      ],
      "text/plain": [
       "       Type  Days for shipping (real)  Days for shipment (scheduled)  \\\n",
       "0     DEBIT                         3                              4   \n",
       "1  TRANSFER                         5                              4   \n",
       "2      CASH                         4                              4   \n",
       "3     DEBIT                         3                              4   \n",
       "4   PAYMENT                         2                              4   \n",
       "\n",
       "   Benefit per order  Sales per customer   Delivery Status  \\\n",
       "0          91.250000          314.640015  Advance shipping   \n",
       "1        -249.089996          311.359985     Late delivery   \n",
       "2        -247.779999          309.720001  Shipping on time   \n",
       "3          22.860001          304.809998  Advance shipping   \n",
       "4         134.210007          298.250000  Advance shipping   \n",
       "\n",
       "   Late_delivery_risk  Category Id   Category Name Customer City  ...  \\\n",
       "0                   0           73  Sporting Goods        Caguas  ...   \n",
       "1                   1           73  Sporting Goods        Caguas  ...   \n",
       "2                   0           73  Sporting Goods      San Jose  ...   \n",
       "3                   0           73  Sporting Goods   Los Angeles  ...   \n",
       "4                   0           73  Sporting Goods        Caguas  ...   \n",
       "\n",
       "  Product Card Id Product Category Id Product Description  \\\n",
       "0            1360                  73                None   \n",
       "1            1360                  73                None   \n",
       "2            1360                  73                None   \n",
       "3            1360                  73                None   \n",
       "4            1360                  73                None   \n",
       "\n",
       "                                  Product Image  Product Name Product Price  \\\n",
       "0  http://images.acmesports.sports/Smart+watch   Smart watch         327.75   \n",
       "1  http://images.acmesports.sports/Smart+watch   Smart watch         327.75   \n",
       "2  http://images.acmesports.sports/Smart+watch   Smart watch         327.75   \n",
       "3  http://images.acmesports.sports/Smart+watch   Smart watch         327.75   \n",
       "4  http://images.acmesports.sports/Smart+watch   Smart watch         327.75   \n",
       "\n",
       "  Product Status shipping date (DateOrders)   Shipping Mode  \\\n",
       "0              0             2/3/2018 22:56  Standard Class   \n",
       "1              0            1/18/2018 12:27  Standard Class   \n",
       "2              0            1/17/2018 12:06  Standard Class   \n",
       "3              0            1/16/2018 11:45  Standard Class   \n",
       "4              0            1/15/2018 11:24  Standard Class   \n",
       "\n",
       "   Benefit per order Normalized  \n",
       "0                      0.841800  \n",
       "1                      0.776183  \n",
       "2                      0.776435  \n",
       "3                      0.828614  \n",
       "4                      0.850082  \n",
       "\n",
       "[5 rows x 54 columns]"
      ]
     },
     "execution_count": 30,
     "metadata": {},
     "output_type": "execute_result"
    }
   ],
   "source": [
    "data_2.head()"
   ]
  },
  {
   "cell_type": "code",
   "execution_count": 31,
   "id": "1e1af853",
   "metadata": {},
   "outputs": [],
   "source": [
    "data_3 = data_2[['Days for shipping (real)','Days for shipment (scheduled)','Benefit per order Normalized','Sales per customer','Delivery Status']]"
   ]
  },
  {
   "cell_type": "code",
   "execution_count": 32,
   "id": "d3ff4ef5",
   "metadata": {},
   "outputs": [],
   "source": [
    "X = data_3[['Days for shipping (real)','Days for shipment (scheduled)','Benefit per order Normalized']]"
   ]
  },
  {
   "cell_type": "code",
   "execution_count": 33,
   "id": "623b3556",
   "metadata": {},
   "outputs": [],
   "source": [
    "y = data_2['Delivery Status']"
   ]
  },
  {
   "cell_type": "code",
   "execution_count": 34,
   "id": "98e7d101",
   "metadata": {},
   "outputs": [],
   "source": [
    "from sklearn.naive_bayes import GaussianNB"
   ]
  },
  {
   "cell_type": "code",
   "execution_count": 35,
   "id": "9e1f6667",
   "metadata": {},
   "outputs": [],
   "source": [
    "nb = GaussianNB()"
   ]
  },
  {
   "cell_type": "code",
   "execution_count": 36,
   "id": "a751ce87",
   "metadata": {},
   "outputs": [],
   "source": [
    "X_train, X_test, y_train, y_test = train_test_split(X, y, test_size=0.2, random_state=0)"
   ]
  },
  {
   "cell_type": "code",
   "execution_count": 37,
   "id": "c29a255f",
   "metadata": {},
   "outputs": [
    {
     "data": {
      "text/plain": [
       "GaussianNB()"
      ]
     },
     "execution_count": 37,
     "metadata": {},
     "output_type": "execute_result"
    }
   ],
   "source": [
    "nb.fit(X_train, y_train)"
   ]
  },
  {
   "cell_type": "code",
   "execution_count": 38,
   "id": "bcb89eea",
   "metadata": {},
   "outputs": [],
   "source": [
    "y_pred = nb.predict(X_test)"
   ]
  },
  {
   "cell_type": "code",
   "execution_count": 39,
   "id": "eb2eafb8",
   "metadata": {},
   "outputs": [
    {
     "name": "stderr",
     "output_type": "stream",
     "text": [
      "/home/aditya/anaconda3/lib/python3.9/site-packages/sklearn/metrics/_classification.py:1248: UndefinedMetricWarning: Precision and F-score are ill-defined and being set to 0.0 in labels with no predicted samples. Use `zero_division` parameter to control this behavior.\n",
      "  _warn_prf(average, modifier, msg_start, len(result))\n",
      "/home/aditya/anaconda3/lib/python3.9/site-packages/sklearn/metrics/_classification.py:1248: UndefinedMetricWarning: Precision and F-score are ill-defined and being set to 0.0 in labels with no predicted samples. Use `zero_division` parameter to control this behavior.\n",
      "  _warn_prf(average, modifier, msg_start, len(result))\n",
      "/home/aditya/anaconda3/lib/python3.9/site-packages/sklearn/metrics/_classification.py:1248: UndefinedMetricWarning: Precision and F-score are ill-defined and being set to 0.0 in labels with no predicted samples. Use `zero_division` parameter to control this behavior.\n",
      "  _warn_prf(average, modifier, msg_start, len(result))\n"
     ]
    },
    {
     "data": {
      "text/plain": [
       "'                   precision    recall  f1-score   support\\n\\n Advance shipping       0.64      1.00      0.78      8428\\n    Late delivery       0.86      1.00      0.92     19720\\nShipping canceled       0.00      0.00      0.00      1593\\n Shipping on time       0.00      0.00      0.00      6363\\n\\n         accuracy                           0.78     36104\\n        macro avg       0.38      0.50      0.43     36104\\n     weighted avg       0.62      0.78      0.69     36104\\n'"
      ]
     },
     "execution_count": 39,
     "metadata": {},
     "output_type": "execute_result"
    }
   ],
   "source": [
    "classification_report(y_test, y_pred)"
   ]
  },
  {
   "cell_type": "code",
   "execution_count": 40,
   "id": "591eb08e",
   "metadata": {},
   "outputs": [
    {
     "data": {
      "text/plain": [
       "0.7793042322180368"
      ]
     },
     "execution_count": 40,
     "metadata": {},
     "output_type": "execute_result"
    }
   ],
   "source": [
    "accuracy_score(y_test, y_pred)"
   ]
  },
  {
   "cell_type": "code",
   "execution_count": 41,
   "id": "94f21310",
   "metadata": {},
   "outputs": [
    {
     "name": "stderr",
     "output_type": "stream",
     "text": [
      "/home/aditya/anaconda3/lib/python3.9/site-packages/sklearn/metrics/_classification.py:1248: UndefinedMetricWarning: Precision and F-score are ill-defined and being set to 0.0 in labels with no predicted samples. Use `zero_division` parameter to control this behavior.\n",
      "  _warn_prf(average, modifier, msg_start, len(result))\n",
      "/home/aditya/anaconda3/lib/python3.9/site-packages/sklearn/metrics/_classification.py:1248: UndefinedMetricWarning: Precision and F-score are ill-defined and being set to 0.0 in labels with no predicted samples. Use `zero_division` parameter to control this behavior.\n",
      "  _warn_prf(average, modifier, msg_start, len(result))\n",
      "/home/aditya/anaconda3/lib/python3.9/site-packages/sklearn/metrics/_classification.py:1248: UndefinedMetricWarning: Precision and F-score are ill-defined and being set to 0.0 in labels with no predicted samples. Use `zero_division` parameter to control this behavior.\n",
      "  _warn_prf(average, modifier, msg_start, len(result))\n"
     ]
    },
    {
     "data": {
      "text/plain": [
       "<AxesSubplot:>"
      ]
     },
     "execution_count": 41,
     "metadata": {},
     "output_type": "execute_result"
    },
    {
     "data": {
      "image/png": "[encoded data removed]",
      "text/plain": [
       "<Figure size 432x288 with 2 Axes>"
      ]
     },
     "metadata": {
      "needs_background": "light"
     },
     "output_type": "display_data"
    }
   ],
   "source": [
    "clf_report = classification_report(y_test,\n",
    "                                 y_pred,\n",
    "            \n",
    "                                   output_dict=True)\n",
    "sns.heatmap(pd.DataFrame(clf_report).iloc[:-1, :].T, annot=True)"
   ]
  }
 ],
 "metadata": {
  "kernelspec": {
   "display_name": "Python 3 (ipykernel)",
   "language": "python",
   "name": "python3"
  },
  "language_info": {
   "codemirror_mode": {
    "name": "ipython",
    "version": 3
   },
   "file_extension": ".py",
   "mimetype": "text/x-python",
   "name": "python",
   "nbconvert_exporter": "python",
   "pygments_lexer": "ipython3",
   "version": "3.9.7"
  }
 },
 "nbformat": 4,
 "nbformat_minor": 5
}
